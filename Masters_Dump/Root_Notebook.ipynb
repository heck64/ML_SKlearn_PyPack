{
 "cells": [
  {
   "cell_type": "code",
   "execution_count": 1,
   "id": "f71f048b",
   "metadata": {},
   "outputs": [],
   "source": [
    "import numpy\n",
    "import ROOT\n",
    "import sys\n",
    "from ROOT import RDataFrame"
   ]
  },
  {
   "cell_type": "code",
   "execution_count": 3,
   "id": "d960a979",
   "metadata": {},
   "outputs": [],
   "source": [
    "inFileName = \"topas.root\"\n",
    "f=ROOT.TFile.Open(\"topas.root\")"
   ]
  },
  {
   "cell_type": "code",
   "execution_count": 8,
   "id": "de9b9b80",
   "metadata": {
    "scrolled": true
   },
   "outputs": [
    {
     "data": {
      "text/plain": [
       "106"
      ]
     },
     "execution_count": 8,
     "metadata": {},
     "output_type": "execute_result"
    }
   ],
   "source": [
    "tree =f.Get(\"ROOTOutput\")\n",
    "total=tree.GetEntries()\n",
    "total"
   ]
  },
  {
   "cell_type": "code",
   "execution_count": 11,
   "id": "189e956d",
   "metadata": {},
   "outputs": [],
   "source": [
    "df = ROOT.RDataFrame(\"ROOTOutput\", inFileName)\n",
    "df =df.Filter(\"Position_X__cm_ < 3\")\n",
    "df =df.Filter(\"Position_X__cm_ > -3\")\n",
    "hist=df.Histo1D((\"Woah\", \"Please\", 100, -5, 5), \"Position_X__cm_\")\n",
    "withcut=hist.GetEntries()"
   ]
  },
  {
   "cell_type": "code",
   "execution_count": 13,
   "id": "6be7fbe9",
   "metadata": {},
   "outputs": [
    {
     "name": "stdout",
     "output_type": "stream",
     "text": [
      "0.8584905660377359\n"
     ]
    }
   ],
   "source": [
    "ratio = withcut/total\n",
    "print(ratio)"
   ]
  },
  {
   "cell_type": "code",
   "execution_count": null,
   "id": "2ca57ae2",
   "metadata": {},
   "outputs": [],
   "source": [
    "txtFile = inFileName\n",
    "def output(inFileName,ratios_arr):\n",
    "    txtFile = f\"{inFileName}_Proccessed_ROOT.txt\"\n",
    "    open(txtFile, \"w\").write(ratios_arr)"
   ]
  },
  {
   "cell_type": "code",
   "execution_count": 25,
   "id": "52b1a657",
   "metadata": {},
   "outputs": [],
   "source": [
    "def Distribution_Values(File):\n",
    "    f=ROOT.TFile.Open(str(File))\n",
    "    tree = f.Get(\"ROOTOutput\")\n",
    "    df = ROOT.RDataFrame(\"ROOTOutput\", File)\n",
    "    print(df)\n",
    "    stdev=df.StdDev(\"Position_X__cm_\")\n",
    "    meanval=df.Mean(\"Position_X__cm_\")\n",
    "    return stdev, meanval"
   ]
  },
  {
   "cell_type": "code",
   "execution_count": 29,
   "id": "aea39fee",
   "metadata": {},
   "outputs": [
    {
     "name": "stdout",
     "output_type": "stream",
     "text": [
      "A data frame built on top of the ROOTOutput dataset.\n",
      "3.01292420751039\n",
      "-0.2968927139662347\n"
     ]
    }
   ],
   "source": [
    "std, mean =Distribution_Values(inFileName)\n",
    "print(std.GetValue())\n",
    "print(mean.GetValue())"
   ]
  },
  {
   "cell_type": "code",
   "execution_count": null,
   "id": "28ab4aa3",
   "metadata": {},
   "outputs": [],
   "source": []
  }
 ],
 "metadata": {
  "kernelspec": {
   "display_name": "Python 3 (ipykernel)",
   "language": "python",
   "name": "python3"
  },
  "language_info": {
   "codemirror_mode": {
    "name": "ipython",
    "version": 3
   },
   "file_extension": ".py",
   "mimetype": "text/x-python",
   "name": "python",
   "nbconvert_exporter": "python",
   "pygments_lexer": "ipython3",
   "version": "3.9.18"
  }
 },
 "nbformat": 4,
 "nbformat_minor": 5
}
